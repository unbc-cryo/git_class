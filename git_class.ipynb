{
 "cells": [
  {
   "cell_type": "markdown",
   "metadata": {},
   "source": [
    "This notebook is derived from [this](https://neurathsboat.blog/post/git-intro/) excellent git tutorial, which in turn borrows from [here](https://swcarpentry.github.io/git-novice/). You can refer to these resources for more details on what's covered below, as well as more git functionality."
   ]
  },
  {
   "cell_type": "markdown",
   "metadata": {},
   "source": [
    "# TL;DR\n",
    "\n",
    "\"Too long; didn't read\"\n",
    "\n",
    "This is all you need to know to get started and for 90% of your git work.\n",
    "\n",
    "Here's how staging is structured in git:\n",
    "\n",
    "![git structure](https://neurathsboat.blog/post/git-intro/featured.png)\n",
    "\n",
    "Here's how you set up a new git repo and push it to Github:"
   ]
  },
  {
   "cell_type": "code",
   "execution_count": null,
   "metadata": {},
   "outputs": [],
   "source": [
    "cd your_project_directory\n",
    "# initialise a new repository in the current directory\n",
    "git init\n",
    "# add all files to a staging area\n",
    "git add .\n",
    "# commit files to the repository\n",
    "git commit -m \"Commit message\"\n",
    "# connect the local project with a remote (github) repository\n",
    "# you'll need to have already created a github project to do this\n",
    "# you'll need to have created an SSH key pair and registered on GitHub \n",
    "git remote add origin git@github.com:account/git-demo.git\n",
    "# push your local repo to the remote repo\n",
    "git push -u origin main"
   ]
  },
  {
   "cell_type": "markdown",
   "metadata": {},
   "source": [
    "Here's how you continue to work on the project and push new changes:"
   ]
  },
  {
   "cell_type": "code",
   "execution_count": null,
   "metadata": {},
   "outputs": [],
   "source": [
    "# pull the remote repository (defined above as \"origin\") to this directory\n",
    "git pull origin main\n",
    "# make edits then add all files to the staging area\n",
    "git add .\n",
    "# commit changes to the local repo\n",
    "git commit -m \"Commit message\"\n",
    "# push changes to the remote repo\n",
    "git push origin main"
   ]
  },
  {
   "cell_type": "markdown",
   "metadata": {},
   "source": [
    "# Using this notebook\n",
    "\n",
    "This notebook runs shell commands (Bash), __not__ Python. To run this notebook, you'll need to install Bash Kernel. You can do this by running the following commands in your terminal:\n",
    "\n",
    "```\n",
    "pip install bash_kernel\n",
    "python -m bash_kernel.install\n",
    "```\n",
    "\n",
    "Afterwards, restart Jupyter (Notebook or Lab) and select \"Bash\" as the kernel for this notebook.\n",
    "\n",
    "Alternatively, you can copy the commands from this notebook into the terminal if you don't wish to use Bash kernel. \n",
    "\n",
    "You need to have git installed on your system. You can find  instructions to install git for all systems [here](https://git-scm.com/book/en/v2/Getting-Started-Installing-Git).\n",
    "\n",
    "Here's how to install it on a Debian-based Linux operating system (however, it may already be installed). Again, run this in your terminal. You'll need admin rights to install git.\n",
    "\n",
    "```\n",
    "sudo apt install git-all\n",
    "```\n",
    "\n",
    "Now that git is installed you can configure it with your details."
   ]
  },
  {
   "cell_type": "code",
   "execution_count": null,
   "metadata": {},
   "outputs": [],
   "source": [
    "git config --global user.name \"Your Name\"\n",
    "git config --global user.email \"name@mail.com\""
   ]
  },
  {
   "cell_type": "markdown",
   "metadata": {},
   "source": [
    "Let's get ready to start the class by clearing any previous demo results from the directory."
   ]
  },
  {
   "cell_type": "code",
   "execution_count": null,
   "metadata": {},
   "outputs": [],
   "source": [
    "rm -r git_demo"
   ]
  },
  {
   "cell_type": "markdown",
   "metadata": {},
   "source": [
    "# Why git?\n",
    "\n",
    "Scientific practice needs to\n",
    "\n",
    "- be collaborative\n",
    "- be documented\n",
    "- be open\n",
    "- be amenable to revision\n",
    "- include verifiable computer code\n",
    "\n",
    "Scientists need to collaborate in a way that gracefully and robustly handles concurrent editing. Common practices to handle even simple cases of single-file versioning edited by few collaborators are cumbersome. An example that should be familiar to all academic researchers is to have a folder piled with versions of a single document.\n",
    "\n",
    "![naming](https://neurathsboat.blog/post/git-intro/img/notFinal.gif)\n",
    "\n",
    "The purpose of distributed source control systems, such as Git, is to enable multiple people to work on the same project in parallel or asynchronously. In combination with using a central online repository, everyone can have immediate access to the latest main version, while at the same time working on their private copies.\n",
    "\n",
    "Simultaneously editing a file in Google Docs, although admirably powerful, can be very distractive as a change introduced by someone may disrupt another person’s work. But with Git every collaborator is working with a private copy, or branch as we will later see. Changes inside a private branch do not affect other branches.\n",
    "\n",
    "At the most basic level, Git automatically tracks the answers to the questions:\n",
    "\n",
    "- What has changed?\n",
    "- Who made the change?\n",
    "- When was the change made?\n",
    "\n",
    "and in addition motivates you to answer the question\n",
    "\n",
    "- Why did it change/ What is this change about?"
   ]
  },
  {
   "cell_type": "markdown",
   "metadata": {},
   "source": [
    "# Local git repositories"
   ]
  },
  {
   "cell_type": "markdown",
   "metadata": {},
   "source": [
    "I will first describe some basic commands for use through a terminal. However, many text editors or integrated development environments (IDE, e.g. VS Code, Atom) now offer a way to use these basic commands through a guided user interface. For more advanced usage, there are even standalone graphical git clients and we will see some examples of graphical interfaces for git later in this post."
   ]
  },
  {
   "cell_type": "code",
   "execution_count": 1,
   "metadata": {},
   "outputs": [
    {
     "name": "stdout",
     "output_type": "stream",
     "text": [
      "Initialized empty Git repository in /home/jvrt/git_class/git_demo/.git/\n"
     ]
    }
   ],
   "source": [
    "mkdir git_demo # Create folder\n",
    "cd git_demo # Move to that folder\n",
    "git init # Tell Git to start watching this folder"
   ]
  },
  {
   "cell_type": "markdown",
   "metadata": {},
   "source": [
    "If you look in the directory, you can see there is now a hidden file (prepended with \".\") which contains all of the git information:"
   ]
  },
  {
   "cell_type": "code",
   "execution_count": 53,
   "metadata": {},
   "outputs": [
    {
     "name": "stdout",
     "output_type": "stream",
     "text": [
      "total 16\n",
      "drwxr-xr-x 3 jvrt jvrt 4096 Mar  8 14:26 \u001b[0m\u001b[01;34m.\u001b[0m\n",
      "drwxr-xr-x 4 jvrt jvrt 4096 Mar  8 16:27 \u001b[01;34m..\u001b[0m\n",
      "drwxr-xr-x 8 jvrt jvrt 4096 Mar  8 16:26 \u001b[01;34m.git\u001b[0m\n",
      "-rw-r--r-- 1 jvrt jvrt    5 Mar  8 14:26 test.txt\n"
     ]
    }
   ],
   "source": [
    "ls -la"
   ]
  },
  {
   "cell_type": "markdown",
   "metadata": {},
   "source": [
    "Now the git software knows this is a git repo so we can start using git commands with it."
   ]
  },
  {
   "cell_type": "code",
   "execution_count": 54,
   "metadata": {},
   "outputs": [
    {
     "name": "stdout",
     "output_type": "stream",
     "text": [
      "On branch main\n",
      "Your branch is up to date with 'origin/main'.\n",
      "\n",
      "nothing to commit, working tree clean\n"
     ]
    }
   ],
   "source": [
    "git status"
   ]
  },
  {
   "cell_type": "markdown",
   "metadata": {},
   "source": [
    "Now let's start adding some files and text to our project."
   ]
  },
  {
   "cell_type": "code",
   "execution_count": 4,
   "metadata": {},
   "outputs": [
    {
     "name": "stdout",
     "output_type": "stream",
     "text": [
      "spam\n"
     ]
    }
   ],
   "source": [
    "touch test.txt # Create file\n",
    "echo spam >> test.txt # Write \"spam\" inside test.txt\n",
    "cat test.txt # Display file contents"
   ]
  },
  {
   "cell_type": "markdown",
   "metadata": {},
   "source": [
    "To include this file in our staging area we need to `add` it. We should `add` things frequently. Think of it as backing up the work you're doing, like the save button in Word."
   ]
  },
  {
   "cell_type": "code",
   "execution_count": null,
   "metadata": {},
   "outputs": [],
   "source": [
    "git add test.txt\n",
    "git status"
   ]
  },
  {
   "cell_type": "markdown",
   "metadata": {},
   "source": [
    "Every so often, when we're performed a chunk of work that has achieved something in the project (e.g. fix a big, add a new function), we can `commit` it to the repository. When we do so it's important to include a message that briefly describes what this chunk of work achieved:"
   ]
  },
  {
   "cell_type": "code",
   "execution_count": null,
   "metadata": {},
   "outputs": [],
   "source": [
    "git commit -m \"Include spam\""
   ]
  },
  {
   "cell_type": "code",
   "execution_count": 59,
   "metadata": {},
   "outputs": [
    {
     "name": "stdout",
     "output_type": "stream",
     "text": [
      "Switched to a new branch 'develop'\n"
     ]
    }
   ],
   "source": [
    "git checkout -b develop"
   ]
  },
  {
   "cell_type": "code",
   "execution_count": 60,
   "metadata": {},
   "outputs": [
    {
     "name": "stdout",
     "output_type": "stream",
     "text": [
      "spam\n",
      "I am developing\n"
     ]
    }
   ],
   "source": [
    "echo \"I am developing\" >> test.txt\n",
    "cat test.txt"
   ]
  },
  {
   "cell_type": "code",
   "execution_count": 61,
   "metadata": {},
   "outputs": [
    {
     "name": "stdout",
     "output_type": "stream",
     "text": [
      "On branch develop\n",
      "Changes not staged for commit:\n",
      "  (use \"git add <file>...\" to update what will be committed)\n",
      "  (use \"git restore <file>...\" to discard changes in working directory)\n",
      "\t\u001b[31mmodified:   test.txt\u001b[m\n",
      "\n",
      "no changes added to commit (use \"git add\" and/or \"git commit -a\")\n"
     ]
    }
   ],
   "source": [
    "git status"
   ]
  },
  {
   "cell_type": "code",
   "execution_count": 66,
   "metadata": {},
   "outputs": [
    {
     "name": "stdout",
     "output_type": "stream",
     "text": [
      "[develop 6a6a4e0] include asinine statement\n",
      " 1 file changed, 1 insertion(+)\n"
     ]
    }
   ],
   "source": [
    "git add --all\n",
    "git commit -m \"include asinine statement\""
   ]
  },
  {
   "cell_type": "markdown",
   "metadata": {},
   "source": [
    "To revert back to the latest state of the file Git has recorded we simply checkout the branch’s HEAD"
   ]
  },
  {
   "cell_type": "code",
   "execution_count": null,
   "metadata": {},
   "outputs": [],
   "source": [
    "git checkout HEAD test.txt"
   ]
  },
  {
   "cell_type": "markdown",
   "metadata": {},
   "source": [
    "At some point, we will feel that our edits are complete. We can then merge the changes we made in the develop branch with the master branch. First, we need to switch back to the master branch and then use the git command merge:"
   ]
  },
  {
   "cell_type": "code",
   "execution_count": 68,
   "metadata": {},
   "outputs": [
    {
     "name": "stdout",
     "output_type": "stream",
     "text": [
      "Switched to branch 'main'\n",
      "Your branch is up to date with 'origin/main'.\n",
      "Updating bb13dd5..6a6a4e0\n",
      "Fast-forward\n",
      " test.txt | 1 \u001b[32m+\u001b[m\n",
      " 1 file changed, 1 insertion(+)\n"
     ]
    }
   ],
   "source": [
    "git checkout main\n",
    "git merge develop"
   ]
  },
  {
   "cell_type": "markdown",
   "metadata": {},
   "source": [
    "# Remote git repositories"
   ]
  },
  {
   "cell_type": "markdown",
   "metadata": {},
   "source": [
    "This is where online services such as GitHub and GitLab come in. Both GitHub and GitLab offer free public repositories with many useful features.\n",
    "\n",
    "While anyone can view public GitHub projects, you need to create an account to create or interact with a hosted project."
   ]
  },
  {
   "cell_type": "markdown",
   "metadata": {},
   "source": [
    "## Remote repository security"
   ]
  },
  {
   "cell_type": "markdown",
   "metadata": {},
   "source": [
    "Interacting with your GitHub repository outside its own web interface will be \"simplified\" (read: (╯°□°）╯︵ ┻━┻ ) if you create a secure shell (SSH) key pair (1 public, 1 private). This process can be fraught with errors and you may need to do some Googling to find solutions to problems you run into. GitHub will soon __only__ allow SSH access, so it's good to figure it out now. The steps below should cover some of the major headaches.\n",
    "\n",
    "You need an SSH key pair for every device you intend to use with GitHub. If you do not already have an SSH key associated with your computer & GitHub account, create one with:"
   ]
  },
  {
   "cell_type": "code",
   "execution_count": null,
   "metadata": {},
   "outputs": [],
   "source": [
    "ssh-keygen -t ed25519 -C \"jvrt@pm.me\" -f ~/.ssh/id_ed25519 -N \"\" -m PEM"
   ]
  },
  {
   "cell_type": "markdown",
   "metadata": {},
   "source": [
    "You'll need to add the public part of this key pair to your GitHub account under:\n",
    "\n",
    "Settings ➡ SSH and GPG Keys\n",
    "\n",
    "Then click __New SSH key__. Give it a sensible name so you know which device the key is associated with (e.g. \"my laptop\"), then copy the output of the following cell into the key cell."
   ]
  },
  {
   "cell_type": "code",
   "execution_count": null,
   "metadata": {},
   "outputs": [],
   "source": [
    "cat ~/.ssh/id_ed25519.pub"
   ]
  },
  {
   "cell_type": "markdown",
   "metadata": {},
   "source": [
    "Finally hit __Add SSH key__."
   ]
  },
  {
   "cell_type": "markdown",
   "metadata": {},
   "source": [
    "You'll now need to make your computer \"aware\" of this SSH key pair using:"
   ]
  },
  {
   "cell_type": "code",
   "execution_count": 36,
   "metadata": {},
   "outputs": [
    {
     "name": "stdout",
     "output_type": "stream",
     "text": [
      "Agent pid 19077\n",
      "Identity added: /home/jvrt/.ssh/id_ed25519 (jvrt@pm.me)\n"
     ]
    }
   ],
   "source": [
    "eval `ssh-agent -s`\n",
    "ssh-add ~/.ssh/id_ed25519"
   ]
  },
  {
   "cell_type": "markdown",
   "metadata": {},
   "source": [
    "You also need to restrict access to the keys (so only you can access them on your computer):"
   ]
  },
  {
   "cell_type": "code",
   "execution_count": 40,
   "metadata": {},
   "outputs": [],
   "source": [
    "chmod 600 ~/.ssh/id_ed25519\n",
    "chmod 600 ~/.ssh/id_ed25519.pub\n",
    "chmod 644 ~/.ssh/known_hosts\n",
    "chmod 755 ~/.ssh"
   ]
  },
  {
   "cell_type": "markdown",
   "metadata": {},
   "source": [
    "Now add github.com as a known SSH host, so your computer trusts it:"
   ]
  },
  {
   "cell_type": "code",
   "execution_count": null,
   "metadata": {},
   "outputs": [],
   "source": [
    "ssh-keyscan github.com >> ~/.ssh/known_hosts"
   ]
  },
  {
   "cell_type": "markdown",
   "metadata": {},
   "source": [
    "## Creating a remote repository"
   ]
  },
  {
   "cell_type": "markdown",
   "metadata": {},
   "source": [
    "Now it's time to create your remote repository. Do so on GitHub.com like so:\n",
    "\n",
    "![create github repo](./git_create_repo.png)\n",
    "\n",
    "GitHub helpfully gives you the commands you need next to sync your local repo with their servers:\n",
    "\n",
    "![create github repo options](./git_create_repo_options.png)"
   ]
  },
  {
   "cell_type": "code",
   "execution_count": null,
   "metadata": {},
   "outputs": [],
   "source": [
    "git remote add origin git@github.com:JamesTownend/git_demo.git\n",
    "git branch -M main\n",
    "git push -u origin main"
   ]
  },
  {
   "cell_type": "markdown",
   "metadata": {},
   "source": [
    "This local repo is now aware of the remote repo, so we can push changes to it using"
   ]
  },
  {
   "cell_type": "code",
   "execution_count": null,
   "metadata": {},
   "outputs": [],
   "source": [
    "git push origin main"
   ]
  },
  {
   "cell_type": "markdown",
   "metadata": {},
   "source": [
    "Or, because `origin` is the default remote, and `main` is the default branch:"
   ]
  },
  {
   "cell_type": "code",
   "execution_count": null,
   "metadata": {},
   "outputs": [],
   "source": [
    "git status"
   ]
  },
  {
   "cell_type": "code",
   "execution_count": null,
   "metadata": {},
   "outputs": [],
   "source": [
    "git push"
   ]
  },
  {
   "cell_type": "markdown",
   "metadata": {},
   "source": [
    "And we can pull changes from the remote using"
   ]
  },
  {
   "cell_type": "code",
   "execution_count": null,
   "metadata": {},
   "outputs": [],
   "source": [
    "git pull"
   ]
  },
  {
   "cell_type": "markdown",
   "metadata": {},
   "source": [
    "# Merge (AKA pull) requests"
   ]
  },
  {
   "cell_type": "markdown",
   "metadata": {},
   "source": [
    "If we are working with others on a remote repository, when we want to merge a local branch with the master branch of the remote repository we can open a merge request (or pull request in GitHub’s terminology). The main difference with a local merge as the one we performed before is that now collaborators of a project are free to submit a new merge request, or to review an existing merge request and suggest improvements or comments on the merge request as a whole.\n",
    "\n",
    "Every merge request starts by creating a branch. Merge requests are performed on \n",
    "\n",
    "GitHub.com ➡ your repo ➡ pull request\n",
    "\n",
    "Let's try it with our demo repo.\n",
    "\n",
    "First let's create a new branch, make some changes, and commit those changes."
   ]
  },
  {
   "cell_type": "code",
   "execution_count": null,
   "metadata": {},
   "outputs": [],
   "source": [
    "git checkout -b test_merge_request\n",
    "echo \"random text for our merge request!\" >> test.txt\n",
    "git add --all\n",
    "git commit -m \"included some random text\""
   ]
  },
  {
   "cell_type": "markdown",
   "metadata": {},
   "source": [
    "Now we can push this branch to the remote repo (`origin`). GitHub conveniently gives us a link to the pull request."
   ]
  },
  {
   "cell_type": "code",
   "execution_count": null,
   "metadata": {},
   "outputs": [],
   "source": [
    "git push origin test_merge_request"
   ]
  },
  {
   "cell_type": "markdown",
   "metadata": {},
   "source": [
    "# Git for non-text"
   ]
  },
  {
   "cell_type": "markdown",
   "metadata": {},
   "source": [
    "Putting your manuscripts and other text-based files under Git can be rewarding, as long as you take some considerations into account. While Git can track any file that you instruct it to, with some file formats you are not getting the most out of Git. An example that is relevant to many academics is Microsoft Word’s native file format, DOCX. Since a DOCX file is a compressed XML file, diffing a DOCX file is not very informative.\n",
    "\n",
    "Consider using LaTeX or Markdown to write documents with, as these are text-based files formats that play well with git.\n",
    "\n",
    "You should make it a habit of ignoring large non-text files in your repository, which GitHub is not suited for (and may be too large to store for free anyway). You can ignore files and folders by including them in a text file called `.gitignore`. To associate ignored files with your project when you want to share it, you can include code to download these files from another storage location, such as [Zenodo](https://zenodo.org/). Zenodo allows you to associate files with a DOI, which makes sharing easier.\n",
    "\n",
    "Here's an example of a `.gitignore` file, used to ignore the `.ipynb_checkpoints` folder used to store Jupyter notebook save data, which serves no purpose by being included in the repo:"
   ]
  },
  {
   "cell_type": "code",
   "execution_count": null,
   "metadata": {},
   "outputs": [],
   "source": [
    "cat .gitignore"
   ]
  },
  {
   "cell_type": "markdown",
   "metadata": {},
   "source": [
    "# Other ways of using git"
   ]
  },
  {
   "cell_type": "markdown",
   "metadata": {},
   "source": [
    "Despite the flexibility it offers, using the command line is a deterrent for some people. However, everything that we have done so far with Git and even more can be performed from inside the comfort of a modern text editor, IDE, or dedicated software application.\n",
    "\n",
    "I use [VS Code](https://code.visualstudio.com/) to develop in, which has built-in git (and jupyter!) functionality.\n",
    "\n",
    "You can also manage git in [Rstudio](https://www.rstudio.com/products/RStudio/)\n",
    "\n",
    "![Rstudio](https://neurathsboat.blog/post/git-intro/img/Rstudio_commit.png)\n",
    "\n",
    "and [GitKraken](https://www.gitkraken.com/git-client)\n",
    "\n",
    "![GitKraken](https://neurathsboat.blog/post/git-intro/img/GitKraken_commit.png)"
   ]
  },
  {
   "cell_type": "markdown",
   "metadata": {},
   "source": []
  },
  {
   "cell_type": "code",
   "execution_count": null,
   "metadata": {},
   "outputs": [],
   "source": []
  }
 ],
 "metadata": {
  "kernelspec": {
   "display_name": "Bash",
   "language": "bash",
   "name": "bash"
  },
  "language_info": {
   "codemirror_mode": "shell",
   "file_extension": ".sh",
   "mimetype": "text/x-sh",
   "name": "bash"
  }
 },
 "nbformat": 4,
 "nbformat_minor": 4
}
